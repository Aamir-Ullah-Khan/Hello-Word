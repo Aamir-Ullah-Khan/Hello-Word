{
  "nbformat": 4,
  "nbformat_minor": 0,
  "metadata": {
    "colab": {
      "name": "Untitled0.ipynb",
      "version": "0.3.2",
      "provenance": [],
      "collapsed_sections": [],
      "include_colab_link": true
    },
    "kernelspec": {
      "name": "python3",
      "display_name": "Python 3"
    }
  },
  "cells": [
    {
      "cell_type": "markdown",
      "metadata": {
        "id": "view-in-github",
        "colab_type": "text"
      },
      "source": [
        "<a href=\"https://colab.research.google.com/github/Aamir-Ullah-Khan/Hello-Word/blob/master/Untitled0.ipynb\" target=\"_parent\"><img src=\"https://colab.research.google.com/assets/colab-badge.svg\" alt=\"Open In Colab\"/></a>"
      ]
    },
    {
      "metadata": {
        "id": "BO__TUmlvdoY",
        "colab_type": "code",
        "colab": {}
      },
      "cell_type": "code",
      "source": [
        "# Pigeonhole Principle\n",
        "# If there are more pigeons than pigeonholes, then there must be at least one pigeonhole with at least two pigeons in it.\n",
        "# Theorem –\n",
        "# I) If “A” is the average number of pigeons per hole, where A is not an integer then\n",
        "# 1) At least one pigeon hole contains ceil[A] (smallest integer greater than or equal to A) pigeons\n",
        "# 2) Remaining pigeon holes contains at most floor[A] (largest integer less than or equal to A) pigeons\n",
        "# II) We can say as, if n + 1 objects are put into n boxes, then at least one box contains two or more objects.\n",
        "# The abstract formulation of the principle: Let X and Y be finite sets and let f: X –> Y be a function.\n",
        "# 1) If X has more elements than Y, then f is not one-to-one.\n",
        "# 2) If X and Y have the same number of elements and f is onto, then f is one-to-one.\n",
        "# 3) If X and Y have the same number of elements and f is one-to-one, then f is onto.\n",
        "# Pigeonhole principle is one of the simplest but most useful ideas in mathematics. We will see more applications\n",
        "# that proof of this theorem.\n",
        "\n",
        "# Example: Suppose there are \"n\" number of people in a room. Two or more people will have same birthday.\n",
        "# Solution: If number of people in room is greater than number of days in an year, then at-least two people will have\n",
        "# same birthday. e.g.\n",
        "# Number of people in room = n= 500\n",
        "# Number of days in an year = d = 365 (normal year) or 366 (leap year)\n",
        "# Number of people having same birthday = bd = n/d = 1.37\n",
        "# Hence according to Pigeonhole principle ceiling for current case will be 2 i.e. two people will have same birthday.\n",
        "\n",
        "\n",
        "# Starting Code\n",
        "print(\"This program shows number of people having same birthday in a room by taking input from user\")\n",
        "option = str('y')\n",
        "while option == 'y':\n",
        "    print(\"Enter (+ve)number of people in the room\")\n",
        "    people = int(input())\n",
        "    if people < 0:    #No negative input for number of people\n",
        "        print(\"Invalid Entry: Please select number  greater than 0\")\n",
        "        exit()\n",
        "    print(\"Enter (+ve)number of days in a year i.e: leap or not\")\n",
        "    days = int(input())\n",
        "    if days < 0:  #No negative input for number of people\n",
        "        print(\"Invalid Entry: Please select number  greater than 0\")\n",
        "        exit()\n",
        "    elif people <= days:  # Represents the case when number of pigeons are less than pigeonholes\n",
        "        print(\"Pigeon rule does not apply\")\n",
        "        print(\"People may or may not have same birthday\")\n",
        "    elif people > days:   # Represents the case when number of pigeons are greater than pigeonholes\n",
        "        print(\"Pigeon rule applies\")\n",
        "        result1 = people % days  # Checks if People/ Days is a complete division with no reminder or not\n",
        "        result = float(people // days)\n",
        "        if result1 == 0:  # If its a complete division, then it becomes ceiling e.g. 730/365=2\n",
        "            print(\" Minimum number of people having same birthday:\", result)\n",
        "        else:  # If its not a complete division, then it becomes ceiling e.g. 731/365=2.002 --> 3\n",
        "            print(\"Minimum number of people having same birthday:\", result + 1)\n",
        "    else:\n",
        "        print(\"Invalid Input: Please select again\")\n",
        "    print(\"If you want to continue enter y or else any other character\")  # To continue while loop\n",
        "    option = input()\n",
        "input(\"Press any key to close the code\")\n"
      ],
      "execution_count": 0,
      "outputs": []
    },
    {
      "metadata": {
        "id": "X9FQpBIrvk0t",
        "colab_type": "text"
      },
      "cell_type": "markdown",
      "source": [
        "I am currently a graduate student in Electronics and Communications Engineering at Kocaeli University, Turkey. My MS thesis research is focussed on efficient utilization of bandwidth by using advanced access mechanisms for 5G and beyond networks.  Being an engineer with specialization in telecommunication, I have a deep understanding about technical aspects and working of internet. I believe this is the right time for me to gain further knowledge about internet and learn about the processes involved in making internet related policies."
      ]
    }
  ]
}